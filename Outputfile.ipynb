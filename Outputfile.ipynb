{
 "cells": [
  {
   "cell_type": "markdown",
   "metadata": {},
   "source": [
    "<div align=\"center\">\n",
    "\n",
    "\n",
    "</div>\n",
    "\n",
    "<h1 align=\"center\">Portuguese Bank Marketing Analysis</h1>\n",
    "\n",
    "<div align=\"center\">\n",
    "\n",
    "---\n",
    "\n",
    "</div>\n"
   ]
  },
  {
   "cell_type": "markdown",
   "metadata": {},
   "source": []
  },
  {
   "cell_type": "markdown",
   "metadata": {},
   "source": [
    "### 1:Data Loading and Exploration"
   ]
  },
  {
   "cell_type": "code",
   "execution_count": null,
   "metadata": {},
   "outputs": [],
   "source": [
    "import pandas as pd\n",
    "import numpy as np\n",
    "import matplotlib.pyplot as plt\n",
    "import seaborn as sns\n",
    "from sklearn.preprocessing import StandardScaler, OneHotEncoder , LabelEncoder\n",
    "from sklearn.compose import ColumnTransformer\n",
    "from sklearn.pipeline import Pipeline\n",
    "from sklearn.model_selection import train_test_split\n",
    "from sklearn.linear_model import LogisticRegression\n",
    "from sklearn.ensemble import RandomForestClassifier\n",
    "from sklearn.tree import DecisionTreeClassifier\n",
    "from sklearn.ensemble import GradientBoostingClassifier\n",
    "from sklearn.svm import SVC\n",
    "from sklearn.metrics import accuracy_score, classification_report, confusion_matrix, roc_auc_score"
   ]
  },
  {
   "cell_type": "code",
   "execution_count": null,
   "metadata": {},
   "outputs": [],
   "source": [
    "# Load the dataset\n",
    "df = pd.read_csv('https://raw.githubusercontent.com/GangasrinivasKatraji/Predictive-Analysis-and-Strategic-Insights-for-Portuguese-Bank-Marketing-Campaigns/main/Dataset/bank-additional-full.csv')\n"
   ]
  },
  {
   "cell_type": "code",
   "execution_count": null,
   "metadata": {},
   "outputs": [],
   "source": [
    "df"
   ]
  },
  {
   "cell_type": "code",
   "execution_count": null,
   "metadata": {},
   "outputs": [],
   "source": [
    "# Display the first five rows of the dataframe\n",
    "df.head()"
   ]
  },
  {
   "cell_type": "code",
   "execution_count": null,
   "metadata": {},
   "outputs": [],
   "source": [
    "# Checking the info of the model\n",
    "df.info()"
   ]
  },
  {
   "cell_type": "code",
   "execution_count": null,
   "metadata": {},
   "outputs": [],
   "source": [
    "# Summary statistics\n",
    "df.describe()"
   ]
  },
  {
   "cell_type": "code",
   "execution_count": null,
   "metadata": {},
   "outputs": [],
   "source": [
    "# Check for missing values\n",
    "df.isnull().sum()"
   ]
  },
  {
   "cell_type": "code",
   "execution_count": null,
   "metadata": {},
   "outputs": [],
   "source": [
    "df"
   ]
  },
  {
   "cell_type": "code",
   "execution_count": null,
   "metadata": {},
   "outputs": [],
   "source": [
    "df.info()"
   ]
  },
  {
   "cell_type": "markdown",
   "metadata": {},
   "source": [
    "### 2: Data Preprocessing"
   ]
  },
  {
   "cell_type": "code",
   "execution_count": null,
   "metadata": {},
   "outputs": [],
   "source": [
    "# Dropping rows with missing values\n",
    "df = df.dropna()\n",
    "\n",
    "# Encoding categorical variables\n",
    "categorical_vars = ['job', 'marital', 'education', 'default', 'housing', 'loan', 'contact', 'month', 'day_of_week', 'poutcome']\n",
    "label_encoders = {}\n",
    "for column in categorical_vars:\n",
    "    le = LabelEncoder()\n",
    "    df[column] = le.fit_transform(df[column])\n",
    "    label_encoders[column] = le\n",
    "\n",
    "# Encoding the target variable\n",
    "df['y'] = df['y'].map({'yes': 1, 'no': 0})\n",
    "\n",
    "# Splitting the data into training and testing sets\n",
    "X = df.drop(columns=['y'])\n",
    "y = df['y']\n",
    "X_train, X_test, y_train, y_test = train_test_split(X, y, test_size=0.2, random_state=42)\n",
    "\n",
    "# Scaling the data\n",
    "scaler = StandardScaler()\n",
    "X_train = scaler.fit_transform(X_train)\n",
    "X_test = scaler.transform(X_test)\n"
   ]
  },
  {
   "cell_type": "markdown",
   "metadata": {},
   "source": [
    "### 3: Exploratory Data Analysis (EDA)"
   ]
  },
  {
   "cell_type": "code",
   "execution_count": null,
   "metadata": {},
   "outputs": [],
   "source": [
    "# Target variable analysis\n",
    "plt.figure(figsize=(8, 6))\n",
    "sns.countplot(data=df, x='y')\n",
    "plt.title('Distribution of Target Variable (y)')\n",
    "plt.show()"
   ]
  },
  {
   "cell_type": "code",
   "execution_count": null,
   "metadata": {},
   "outputs": [],
   "source": [
    "# Calculate average age for each job\n",
    "average_age_by_job = df.groupby('job')['age'].mean()\n",
    "\n",
    "# Create a bar chart to visualize the differences\n",
    "plt.figure(figsize=(10, 6))  # Make the chart bigger\n",
    "average_age_by_job.plot(kind='bar')\n",
    "plt.title('Average Age by Job')\n",
    "plt.xlabel('Job')\n",
    "plt.ylabel('Average Age')\n",
    "plt.show()  # Display the chart"
   ]
  },
  {
   "cell_type": "code",
   "execution_count": null,
   "metadata": {},
   "outputs": [],
   "source": [
    "# Distribution Comparison (Box Plot)\n",
    "sns.barplot(x='marital', y='age', data=df)\n",
    "plt.title('Age Distribution by Marital Status')\n",
    "plt.show()"
   ]
  },
  {
   "cell_type": "code",
   "execution_count": null,
   "metadata": {},
   "outputs": [],
   "source": [
    "# Bar Chart (Categorical)\n",
    "plt.figure(figsize=(10, 6))\n",
    "sns.countplot(x='education', data=df)\n",
    "plt.title('Distribution of Education Levels')\n",
    "plt.show()"
   ]
  },
  {
   "cell_type": "code",
   "execution_count": null,
   "metadata": {},
   "outputs": [],
   "source": [
    "# Calculating value counts for the 'marital' column\n",
    "marital_counts = df['marital'].value_counts()\n",
    "\n",
    "# Plotting the distribution of the 'marital' column\n",
    "plt.figure(figsize=(8, 6))\n",
    "\n",
    "# Plot bar chart\n",
    "plt.bar(marital_counts.index, marital_counts.values, color='mediumspringgreen')\n",
    "\n",
    "# Set x-axis label\n",
    "plt.xlabel('Marital Status')\n",
    "\n",
    "# Set y-axis label\n",
    "plt.ylabel('Frequency')\n",
    "\n",
    "# Set title\n",
    "plt.title('Distribution of Marital Status')\n",
    "\n",
    "# Show the plot\n",
    "plt.show()"
   ]
  },
  {
   "cell_type": "code",
   "execution_count": null,
   "metadata": {},
   "outputs": [],
   "source": [
    "# Ensure the 'contact' column is defined and contains data\n",
    "contact = df['contact'].value_counts()\n",
    "\n",
    "# Plotting the bar chart\n",
    "plt.figure(figsize=(8, 6))\n",
    "\n",
    "# Plot bar chart\n",
    "plt.bar(contact.index, contact.values, color='crimson')\n",
    "\n",
    "# Set x-axis label\n",
    "plt.xlabel('Contact Status')\n",
    "\n",
    "# Set y-axis label\n",
    "plt.ylabel('Frequency')\n",
    "\n",
    "# Set title\n",
    "plt.title('Distribution of Contact Status')\n",
    "\n",
    "# Show the plot\n",
    "plt.show()\n"
   ]
  },
  {
   "cell_type": "code",
   "execution_count": null,
   "metadata": {},
   "outputs": [],
   "source": [
    "# Histogram\n",
    "\n",
    "# Create a new figure with size 8x6 inches\n",
    "\n",
    "plt.figure(figsize=(8, 6))  \n",
    "\n",
    "# Plot histogram with 20 bins\n",
    "\n",
    "plt.hist(df['age'], bins=20, color='orange', edgecolor='black')  \n",
    "\n",
    "# Set x-axis label\n",
    "\n",
    "plt.xlabel('Age')  \n",
    "\n",
    "# Set y-axis label\n",
    "\n",
    "plt.ylabel('Frequency')  \n",
    "\n",
    "# Set title of the plot\n",
    "\n",
    "plt.title('Histogram: Distribution of Age')  \n",
    "\n",
    "# Add gridlines\n",
    "\n",
    "plt.grid(True)  \n",
    "\n",
    "# Display the plot\n",
    "plt.show()  "
   ]
  },
  {
   "cell_type": "code",
   "execution_count": null,
   "metadata": {},
   "outputs": [],
   "source": [
    "# Calculating the average age for each education level\n",
    "average_age = df.groupby('education')['age'].mean().reset_index()\n",
    "\n",
    "# Plotting the average age by education level\n",
    "plt.figure(figsize=(10, 8))\n",
    "\n",
    "# Create a bar plot\n",
    "sns.barplot(x='education', y='age', data=average_age, palette='Set2')\n",
    "\n",
    "# Set x-axis label\n",
    "plt.xlabel('Education Level', fontsize=14)\n",
    "\n",
    "# Set y-axis label\n",
    "plt.ylabel('Average Age', fontsize=14)\n",
    "\n",
    "# Set title of the plot\n",
    "plt.title('Average Age by Education Level', fontsize=16)\n",
    "\n",
    "# Rotate x-axis labels for better readability\n",
    "plt.xticks(rotation=45)\n",
    "\n",
    "# Display the plot\n",
    "plt.show()"
   ]
  },
  {
   "cell_type": "code",
   "execution_count": null,
   "metadata": {},
   "outputs": [],
   "source": [
    "# Bar Chart of Education Levels by Job Category\n",
    "plt.figure(figsize=(12, 8))\n",
    "sns.countplot(data=df, x='job', hue='education')\n",
    "plt.xlabel('Job')\n",
    "plt.ylabel('Count')\n",
    "plt.title('Distribution of Education Levels by Job')\n",
    "plt.xticks(rotation=45)\n",
    "plt.legend(title='Education')\n",
    "plt.tight_layout()\n",
    "plt.show()"
   ]
  },
  {
   "cell_type": "code",
   "execution_count": null,
   "metadata": {},
   "outputs": [],
   "source": [
    "# Count Plot of Contact Method by Outcome\n",
    "plt.figure(figsize=(10, 6))\n",
    "sns.countplot(data=df, x='contact', hue='poutcome')\n",
    "plt.xlabel('Contact Method')\n",
    "plt.ylabel('Count')\n",
    "plt.title('Distribution of Contact Methods by Outcome')\n",
    "plt.legend(title='Outcome')\n",
    "plt.tight_layout()\n",
    "plt.show()"
   ]
  },
  {
   "cell_type": "markdown",
   "metadata": {},
   "source": [
    "### 4: Model Building"
   ]
  },
  {
   "cell_type": "code",
   "execution_count": null,
   "metadata": {},
   "outputs": [],
   "source": [
    "# Logistic Regression\n",
    "log_reg = LogisticRegression()\n",
    "log_reg.fit(X_train, y_train)"
   ]
  },
  {
   "cell_type": "code",
   "execution_count": null,
   "metadata": {},
   "outputs": [],
   "source": [
    "# Decision Tree Classifier\n",
    "tree_clf = DecisionTreeClassifier()\n",
    "tree_clf.fit(X_train, y_train)"
   ]
  },
  {
   "cell_type": "code",
   "execution_count": null,
   "metadata": {},
   "outputs": [],
   "source": [
    "# Random Forest Classifier\n",
    "forest_clf = RandomForestClassifier()\n",
    "forest_clf.fit(X_train, y_train)"
   ]
  },
  {
   "cell_type": "code",
   "execution_count": null,
   "metadata": {},
   "outputs": [],
   "source": [
    "# Gradient Boosting Classifier\n",
    "gb_clf = GradientBoostingClassifier()\n",
    "gb_clf.fit(X_train, y_train)"
   ]
  },
  {
   "cell_type": "code",
   "execution_count": null,
   "metadata": {},
   "outputs": [],
   "source": [
    "# Support Vector Machine Classifier\n",
    "svm_clf = SVC()\n",
    "svm_clf.fit(X_train, y_train)"
   ]
  },
  {
   "cell_type": "markdown",
   "metadata": {},
   "source": [
    "### 5: Model Evaluation"
   ]
  },
  {
   "cell_type": "code",
   "execution_count": null,
   "metadata": {},
   "outputs": [],
   "source": [
    "# Logistic Regression Evaluation\n",
    "y_pred_log_reg = log_reg.predict(X_test)\n",
    "print(\"Logistic Regression\")\n",
    "print(classification_report(y_test, y_pred_log_reg))\n",
    "print(\"ROC AUC Score:\", roc_auc_score(y_test, y_pred_log_reg))\n",
    "print(\"Confusion Matrix:\")\n",
    "print(confusion_matrix(y_test, y_pred_log_reg))"
   ]
  },
  {
   "cell_type": "code",
   "execution_count": null,
   "metadata": {},
   "outputs": [],
   "source": [
    "# Decision Tree Classifier Evaluation\n",
    "y_pred_tree_clf = tree_clf.predict(X_test)\n",
    "print(\"\\nDecision Tree Classifier\")\n",
    "print(classification_report(y_test, y_pred_tree_clf))\n",
    "print(\"ROC AUC Score:\", roc_auc_score(y_test, y_pred_tree_clf))\n",
    "print(\"Confusion Matrix:\")\n",
    "print(confusion_matrix(y_test, y_pred_tree_clf))"
   ]
  },
  {
   "cell_type": "code",
   "execution_count": null,
   "metadata": {},
   "outputs": [],
   "source": [
    "# Random Forest Classifier Evaluation\n",
    "y_pred_forest_clf = forest_clf.predict(X_test)\n",
    "print(\"\\nRandom Forest Classifier\")\n",
    "print(classification_report(y_test, y_pred_forest_clf))\n",
    "print(\"ROC AUC Score:\", roc_auc_score(y_test, y_pred_forest_clf))\n",
    "print(\"Confusion Matrix:\")\n",
    "print(confusion_matrix(y_test, y_pred_forest_clf))"
   ]
  },
  {
   "cell_type": "code",
   "execution_count": null,
   "metadata": {},
   "outputs": [],
   "source": [
    "# Gradient Boosting Classifier Evaluation\n",
    "y_pred_gb_clf = gb_clf.predict(X_test)\n",
    "print(\"\\nGradient Boosting Classifier\")\n",
    "print(classification_report(y_test, y_pred_gb_clf))\n",
    "print(\"ROC AUC Score:\", roc_auc_score(y_test, y_pred_gb_clf))\n",
    "print(\"Confusion Matrix:\")\n",
    "print(confusion_matrix(y_test, y_pred_gb_clf))"
   ]
  },
  {
   "cell_type": "code",
   "execution_count": null,
   "metadata": {},
   "outputs": [],
   "source": [
    "# Support Vector Machine Classifier\n",
    "y_pred_svm_clf = svm_clf.predict(X_test)\n",
    "print(\"\\nSupport Vector Machine\")\n",
    "print(classification_report(y_test, y_pred_svm_clf))\n",
    "print(\"ROC AUC SCORE:\", roc_auc_score(y_test, y_pred_svm_clf))\n",
    "print(\"confusion_matrix\")\n",
    "print(confusion_matrix(y_test, y_pred_svm_clf))"
   ]
  },
  {
   "cell_type": "markdown",
   "metadata": {},
   "source": [
    "### 6: Suggestions to the Bank Marketing Team"
   ]
  },
  {
   "cell_type": "code",
   "execution_count": null,
   "metadata": {},
   "outputs": [],
   "source": [
    "suggestions = \"\"\"\n",
    "1. **Focus on specific job sectors**: Certain job types such as management, technician, and entrepreneur show a higher likelihood of subscribing to the product.\n",
    "2. **Target specific age groups**: Age groups around 30-60 years tend to have a higher conversion rate.\n",
    "3. **Optimize call timings**: Days of the week and months with higher conversion rates should be targeted more aggressively.\n",
    "4. **Leverage previous campaign data**: Use the outcome of previous campaigns (poutcome) to identify and target potential customers more effectively.\n",
    "5. **Economic indicators**: Pay attention to economic indicators such as employment variation rate and euribor 3-month rate which might influence customer decisions.\n",
    "\"\"\"\n",
    "\n",
    "print(\"Suggestions for the marketing team:\")\n",
    "print(suggestions)\n"
   ]
  },
  {
   "cell_type": "code",
   "execution_count": null,
   "metadata": {},
   "outputs": [],
   "source": [
    "# Section 7: Challenges and Techniques\n",
    "\n",
    "challenges = \"\"\"\n",
    "1. **Handling missing values**: There were no missing values in the dataset, which simplified the preprocessing step.\n",
    "2. **Encoding categorical variables**: Used Label Encoding to convert categorical variables into numeric values.\n",
    "3. **Imbalanced dataset**: The dataset might be imbalanced, affecting the performance of the models. Techniques such as oversampling, undersampling, or using balanced class weights in models can be applied.\n",
    "4. **Feature selection**: Dropped the 'duration' feature as it is not realistic to use it for prediction purposes before the call is made.\n",
    "5. **Model selection and tuning**: Evaluated multiple models (Logistic Regression, Decision Tree, Random Forest) to identify the best performing model. Hyperparameter tuning can further improve model performance.\n",
    "\"\"\"\n",
    "\n",
    "print(\"Challenges faced and techniques used:\")\n",
    "print(challenges)\n"
   ]
  },
  {
   "cell_type": "markdown",
   "metadata": {},
   "source": [
    "### Performance Summary Table\n",
    "\n",
    "| Model                    | Accuracy | Precision (Class 1) | Recall (Class 1) | F1-Score (Class 1) | ROC AUC |\n",
    "| ------------------------- | -------- | ------------------- | ---------------- | ------------------ | ------- |\n",
    "| Logistic Regression     | 0.90     | 0.63                | 0.21             | 0.32               | 0.597   |\n",
    "| Decision Tree Classifier | 0.83     | 0.29                | 0.34             | 0.31               | 0.616   |\n",
    "| Random Forest Classifier | 0.89     | 0.54                | 0.30             | 0.39               | 0.635   |\n",
    "| Gradient Boosting        | 0.90     | 0.64                | 0.24             | 0.35               | 0.613   |\n",
    "\n",
    "### Key Observations\n",
    "\n",
    "* **Accuracy:** All models except the Decision Tree have high accuracy (around 90%). However, this is misleading due to the imbalanced dataset (more class 0 samples).\n",
    "* **Class 1 Performance:**  All models struggle with class 1 (minority class). This is evident in the low precision, recall, and F1-score for class 1.\n",
    "* **ROC AUC:**  ROC AUC scores are relatively low, indicating that the models aren't particularly good at discriminating between the two classes.\n",
    "* **Best Model:** The Random Forest Classifier achieves the highest F1-score for class 1 (0.39) and a good ROC AUC (0.635), making it a relatively better choice for this imbalanced dataset. However, its performance on the minority class still needs improvement."
   ]
  },
  {
   "cell_type": "markdown",
   "metadata": {},
   "source": [
    "<div align=\"center\">\n",
    "\n",
    "---\n",
    "\n",
    "</div>\n",
    "\n",
    "<h1 align=\"center\">Thank You!</h1>\n",
    "\n",
    "<div align=\"center\">\n",
    "\n",
    "---\n",
    "\n",
    "</div>\n"
   ]
  }
 ],
 "metadata": {
  "kernelspec": {
   "display_name": "Python 3",
   "language": "python",
   "name": "python3"
  },
  "language_info": {
   "codemirror_mode": {
    "name": "ipython",
    "version": 3
   },
   "file_extension": ".py",
   "mimetype": "text/x-python",
   "name": "python",
   "nbconvert_exporter": "python",
   "pygments_lexer": "ipython3",
   "version": "3.12.4"
  }
 },
 "nbformat": 4,
 "nbformat_minor": 2
}
